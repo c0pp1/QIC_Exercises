{
 "cells": [
  {
   "cell_type": "code",
   "execution_count": 27,
   "metadata": {},
   "outputs": [],
   "source": [
    "import numpy as np\n",
    "import matplotlib.pyplot as plt\n",
    "import pandas as pd\n",
    "import seaborn as sns\n",
    "import os\n",
    "from tqdm import tqdm"
   ]
  },
  {
   "attachments": {},
   "cell_type": "markdown",
   "metadata": {},
   "source": [
    "# Script for random state initialization performances"
   ]
  },
  {
   "cell_type": "code",
   "execution_count": 26,
   "metadata": {},
   "outputs": [
    {
     "name": "stderr",
     "output_type": "stream",
     "text": [
      "  0%|          | 0/7 [00:00<?, ?it/s]"
     ]
    },
    {
     "name": "stdout",
     "output_type": "stream",
     "text": [
      "Performance testing, 100.00% done.\n",
      "Performance testing, 100.00% done.\n",
      "Performance testing, 100.00% done.\n"
     ]
    },
    {
     "name": "stderr",
     "output_type": "stream",
     "text": []
    },
    {
     "name": "stdout",
     "output_type": "stream",
     "text": [
      "Performance testing, 100.00% done.\n"
     ]
    },
    {
     "name": "stderr",
     "output_type": "stream",
     "text": [
      "100%|██████████| 6/6 [00:49<00:00,  8.23s/it]\n",
      " 14%|█▍        | 1/7 [00:49<04:56, 49.40s/it]"
     ]
    },
    {
     "name": "stdout",
     "output_type": "stream",
     "text": [
      "Performance testing, 100.00% done.\n",
      "Performance testing, 100.00% done.\n"
     ]
    },
    {
     "name": "stderr",
     "output_type": "stream",
     "text": []
    },
    {
     "name": "stdout",
     "output_type": "stream",
     "text": [
      "Performance testing, 100.00% done.\n",
      "Performance testing, 100.00% done.\n"
     ]
    },
    {
     "name": "stderr",
     "output_type": "stream",
     "text": []
    },
    {
     "name": "stdout",
     "output_type": "stream",
     "text": [
      "Performance testing, 100.00% done.\n"
     ]
    },
    {
     "name": "stderr",
     "output_type": "stream",
     "text": [
      "100%|██████████| 6/6 [00:00<00:00, 27.37it/s]\n",
      " 29%|██▊       | 2/7 [00:49<01:42, 20.47s/it]"
     ]
    },
    {
     "name": "stdout",
     "output_type": "stream",
     "text": [
      "Performance testing, 100.00% done.\n",
      "Performance testing, 100.00% done.\n",
      "Performance testing, 100.00% done.\n"
     ]
    },
    {
     "name": "stderr",
     "output_type": "stream",
     "text": [
      "100%|██████████| 6/6 [00:00<00:00, 178.74it/s]\n"
     ]
    },
    {
     "name": "stdout",
     "output_type": "stream",
     "text": [
      "Performance testing, 100.00% done.\n",
      "Performance testing, 100.00% done.\n",
      "Performance testing, 100.00% done.\n",
      "Performance testing, 100.00% done.\n",
      "Performance testing, 100.00% done.\n",
      "Performance testing, 100.00% done.\n"
     ]
    },
    {
     "name": "stderr",
     "output_type": "stream",
     "text": [
      "100%|██████████| 6/6 [00:00<00:00, 158.51it/s]\n"
     ]
    },
    {
     "name": "stdout",
     "output_type": "stream",
     "text": [
      "Performance testing, 100.00% done.\n",
      "Performance testing, 100.00% done.\n",
      "Performance testing, 100.00% done.\n",
      "Performance testing, 100.00% done.\n",
      "Performance testing, 100.00% done.\n",
      "Performance testing, 100.00% done.\n"
     ]
    },
    {
     "name": "stderr",
     "output_type": "stream",
     "text": [
      "100%|██████████| 6/6 [00:00<00:00, 117.07it/s]\n",
      " 71%|███████▏  | 5/7 [00:49<00:11,  5.85s/it]"
     ]
    },
    {
     "name": "stdout",
     "output_type": "stream",
     "text": [
      "Performance testing, 100.00% done.\n",
      "Performance testing, 100.00% done.\n",
      "Performance testing, 100.00% done.\n",
      "Performance testing, 100.00% done.\n",
      "Performance testing, 100.00% done.\n",
      "Performance testing, 100.00% done.\n"
     ]
    },
    {
     "name": "stderr",
     "output_type": "stream",
     "text": []
    },
    {
     "name": "stdout",
     "output_type": "stream",
     "text": [
      "Performance testing, 100.00% done.\n",
      "Performance testing, 100.00% done.\n",
      "Performance testing, 100.00% done.\n",
      "Performance testing, 100.00% done.\n",
      "Performance testing, 100.00% done.\n",
      "Performance testing, 100.00% done.\n"
     ]
    },
    {
     "name": "stderr",
     "output_type": "stream",
     "text": [
      "100%|██████████| 6/6 [00:00<00:00, 69.12it/s]\n"
     ]
    },
    {
     "name": "stdout",
     "output_type": "stream",
     "text": [
      "Performance testing, 100.00% done.\n",
      "Performance testing, 100.00% done.\n",
      "Performance testing, 100.00% done.\n",
      "Performance testing, 100.00% done.\n",
      "Performance testing, 100.00% done.\n",
      "Performance testing, 100.00% done.\n"
     ]
    },
    {
     "name": "stderr",
     "output_type": "stream",
     "text": [
      "100%|██████████| 6/6 [00:00<00:00, 38.26it/s]\n",
      "100%|██████████| 7/7 [00:50<00:00,  7.14s/it]\n"
     ]
    }
   ],
   "source": [
    "ds = [2**i for i in range(6)]\n",
    "Ns = [2**i for i in range(3, 10)]\n",
    "\n",
    "for N in tqdm(Ns):\n",
    "    for d in tqdm(ds):\n",
    "        os.system('./exercise06 ' + f'-d {d} -N {N} -i 10 -o performances/')"
   ]
  },
  {
   "attachments": {},
   "cell_type": "markdown",
   "metadata": {},
   "source": [
    "# Check separable state normalization"
   ]
  },
  {
   "cell_type": "code",
   "execution_count": 20,
   "metadata": {},
   "outputs": [
    {
     "data": {
      "text/plain": [
       "(0.9999819213392829+0j)"
      ]
     },
     "execution_count": 20,
     "metadata": {},
     "output_type": "execute_result"
    }
   ],
   "source": [
    "data = np.loadtxt('exercise06_d2N10_sep.txt').view(complex)\n",
    "np.prod(np.sum(data*data.conjugate(), 0))"
   ]
  },
  {
   "attachments": {},
   "cell_type": "markdown",
   "metadata": {},
   "source": [
    "# Check general pure state normalization"
   ]
  },
  {
   "cell_type": "code",
   "execution_count": 22,
   "metadata": {},
   "outputs": [
    {
     "data": {
      "text/plain": [
       "(1.0000005869659994+0j)"
      ]
     },
     "execution_count": 22,
     "metadata": {},
     "output_type": "execute_result"
    }
   ],
   "source": [
    "data = np.loadtxt('exercise06_d2N10_pure.txt').view(complex)\n",
    "np.sum(data*data.conjugate())"
   ]
  },
  {
   "attachments": {},
   "cell_type": "markdown",
   "metadata": {},
   "source": [
    "# Check performances"
   ]
  },
  {
   "cell_type": "code",
   "execution_count": 28,
   "metadata": {},
   "outputs": [],
   "source": [
    "time_sep = np.empty((len(ds), len(Ns)))\n",
    "time_gen = np.empty((len(ds), len(Ns)))\n",
    "\n",
    "for i, d in enumerate(ds):\n",
    "    for j, N in enumerate(Ns):\n",
    "        time_sep[i, j], time_gen[i, j] = np.mean(np.loadtxt(f'performances/d{d}N{N}_perf.txt'), 1)"
   ]
  },
  {
   "cell_type": "code",
   "execution_count": 32,
   "metadata": {},
   "outputs": [
    {
     "data": {
      "text/plain": [
       "<AxesSubplot:>"
      ]
     },
     "execution_count": 32,
     "metadata": {},
     "output_type": "execute_result"
    },
    {
     "data": {
      "image/png": "[encoded data removed]",
      "text/plain": [
       "<Figure size 640x480 with 2 Axes>"
      ]
     },
     "metadata": {},
     "output_type": "display_data"
    }
   ],
   "source": [
    "sns.heatmap(time_sep)"
   ]
  },
  {
   "cell_type": "code",
   "execution_count": null,
   "metadata": {},
   "outputs": [],
   "source": []
  }
 ],
 "metadata": {
  "kernelspec": {
   "display_name": "torch",
   "language": "python",
   "name": "python3"
  },
  "language_info": {
   "codemirror_mode": {
    "name": "ipython",
    "version": 3
   },
   "file_extension": ".py",
   "mimetype": "text/x-python",
   "name": "python",
   "nbconvert_exporter": "python",
   "pygments_lexer": "ipython3",
   "version": "3.10.6 (main, Oct 24 2022, 16:07:47) [GCC 11.2.0]"
  },
  "orig_nbformat": 4,
  "vscode": {
   "interpreter": {
    "hash": "331a419315a2fdb77d716bff9d27d64bbb9fafc97272ccf1eb9acf778ff8f493"
   }
  }
 },
 "nbformat": 4,
 "nbformat_minor": 2
}
