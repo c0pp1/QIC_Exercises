{
 "cells": [
  {
   "cell_type": "code",
   "execution_count": 1,
   "metadata": {},
   "outputs": [],
   "source": [
    "import numpy as np\n",
    "import matplotlib.pyplot as plt\n",
    "import pandas as pd\n",
    "import seaborn as sns\n",
    "import os\n",
    "from tqdm import tqdm"
   ]
  },
  {
   "attachments": {},
   "cell_type": "markdown",
   "metadata": {},
   "source": [
    "# Script for random state initialization performances"
   ]
  },
  {
   "cell_type": "code",
   "execution_count": 8,
   "metadata": {},
   "outputs": [
    {
     "name": "stderr",
     "output_type": "stream",
     "text": [
      "100%|██████████| 5/5 [00:00<00:00, 70.17it/s]\n"
     ]
    },
    {
     "name": "stdout",
     "output_type": "stream",
     "text": [
      "Performance testing, 100.00% done.\n",
      "Performance testing, 100.00% done.\n",
      "Performance testing, 100.00% done.\n",
      "Performance testing, 100.00% done.\n",
      "Performance testing, 100.00% done.\n"
     ]
    },
    {
     "name": "stderr",
     "output_type": "stream",
     "text": []
    },
    {
     "name": "stdout",
     "output_type": "stream",
     "text": [
      "Performance testing, 100.00% done.\n",
      "Performance testing, 100.00% done.\n",
      "Performance testing, 100.00% done.\n",
      "Performance testing, 100.00% done.\n",
      "Performance testing, 100.00% done.\n"
     ]
    },
    {
     "name": "stderr",
     "output_type": "stream",
     "text": [
      "100%|██████████| 5/5 [00:00<00:00, 15.03it/s]\n",
      " 40%|████      | 2/5 [00:00<00:00,  4.84it/s]"
     ]
    },
    {
     "name": "stdout",
     "output_type": "stream",
     "text": [
      "Performance testing, 100.00% done.\n",
      "Performance testing, 100.00% done.\n",
      "Performance testing, 100.00% done.\n"
     ]
    },
    {
     "name": "stderr",
     "output_type": "stream",
     "text": []
    },
    {
     "name": "stdout",
     "output_type": "stream",
     "text": [
      "Performance testing, 100.00% done.\n"
     ]
    },
    {
     "name": "stderr",
     "output_type": "stream",
     "text": [
      "100%|██████████| 5/5 [00:49<00:00,  9.90s/it]\n",
      " 60%|██████    | 3/5 [00:49<00:41, 20.75s/it]"
     ]
    },
    {
     "name": "stdout",
     "output_type": "stream",
     "text": [
      "Performance testing, 100.00% done.\n"
     ]
    },
    {
     "name": "stderr",
     "output_type": "stream",
     "text": []
    },
    {
     "name": "stdout",
     "output_type": "stream",
     "text": [
      "Performance testing, 100.00% done.\n",
      "Performance testing, 100.00% done.\n"
     ]
    },
    {
     "name": "stderr",
     "output_type": "stream",
     "text": [
      "100%|██████████| 5/5 [00:00<00:00, 16.10it/s]\n",
      " 80%|████████  | 4/5 [00:50<00:13, 13.13s/it]"
     ]
    },
    {
     "name": "stdout",
     "output_type": "stream",
     "text": [
      "Performance testing, 100.00% done.\n",
      "Performance testing, 100.00% done.\n",
      "Performance testing, 100.00% done.\n"
     ]
    },
    {
     "name": "stderr",
     "output_type": "stream",
     "text": [
      "100%|██████████| 5/5 [00:00<00:00, 81.17it/s]\n",
      "100%|██████████| 5/5 [00:50<00:00, 10.06s/it]"
     ]
    },
    {
     "name": "stdout",
     "output_type": "stream",
     "text": [
      "Performance testing, 100.00% done.\n",
      "Performance testing, 100.00% done.\n",
      "Performance testing, 100.00% done.\n",
      "Performance testing, 100.00% done.\n",
      "Performance testing, 100.00% done.\n"
     ]
    },
    {
     "name": "stderr",
     "output_type": "stream",
     "text": [
      "\n"
     ]
    }
   ],
   "source": [
    "ds = [2**i for i in range(5)]\n",
    "Ns = [2**i for i in range(1, 6)]\n",
    "ofdir = 'performances/g_'\n",
    "\n",
    "for N in tqdm(Ns):\n",
    "    for d in tqdm(ds):\n",
    "        string = (str(d)+',')*N\n",
    "        os.system('./exercise06 ' + f'-N {N} -d {string[:-1]} -i 10 -dl 1 -o {ofdir}')"
   ]
  },
  {
   "attachments": {},
   "cell_type": "markdown",
   "metadata": {},
   "source": [
    "# Check separable state normalization"
   ]
  },
  {
   "cell_type": "code",
   "execution_count": 9,
   "metadata": {},
   "outputs": [
    {
     "data": {
      "text/plain": [
       "(1.000026015848472+0j)"
      ]
     },
     "execution_count": 9,
     "metadata": {},
     "output_type": "execute_result"
    }
   ],
   "source": [
    "data = np.loadtxt('exercise06_d2N10_sep.txt').view(complex)\n",
    "np.prod(np.sum(data*data.conjugate(), 0))"
   ]
  },
  {
   "attachments": {},
   "cell_type": "markdown",
   "metadata": {},
   "source": [
    "# Check general pure state normalization"
   ]
  },
  {
   "cell_type": "code",
   "execution_count": 10,
   "metadata": {},
   "outputs": [
    {
     "data": {
      "text/plain": [
       "(1.0000004857658449+0j)"
      ]
     },
     "execution_count": 10,
     "metadata": {},
     "output_type": "execute_result"
    }
   ],
   "source": [
    "data = np.loadtxt('exercise06_d2N10_pure.txt').view(complex)\n",
    "np.sum(data*data.conjugate())"
   ]
  },
  {
   "attachments": {},
   "cell_type": "markdown",
   "metadata": {},
   "source": [
    "# Check performances"
   ]
  },
  {
   "cell_type": "code",
   "execution_count": 22,
   "metadata": {},
   "outputs": [
    {
     "name": "stderr",
     "output_type": "stream",
     "text": [
      "/tmp/ipykernel_2773/1594193375.py:7: UserWarning: loadtxt: Empty input file: \"performances/g_d2N32_pure.txt\"\n",
      "  if(np.loadtxt(f'{ofdir}d{d}N{N}_pure.txt').shape[0]==0):\n",
      "/tmp/ipykernel_2773/1594193375.py:7: UserWarning: loadtxt: Empty input file: \"performances/g_d4N16_pure.txt\"\n",
      "  if(np.loadtxt(f'{ofdir}d{d}N{N}_pure.txt').shape[0]==0):\n",
      "/tmp/ipykernel_2773/1594193375.py:7: UserWarning: loadtxt: Empty input file: \"performances/g_d4N32_pure.txt\"\n",
      "  if(np.loadtxt(f'{ofdir}d{d}N{N}_pure.txt').shape[0]==0):\n",
      "/tmp/ipykernel_2773/1594193375.py:7: UserWarning: loadtxt: Empty input file: \"performances/g_d8N16_pure.txt\"\n",
      "  if(np.loadtxt(f'{ofdir}d{d}N{N}_pure.txt').shape[0]==0):\n",
      "/tmp/ipykernel_2773/1594193375.py:7: UserWarning: loadtxt: Empty input file: \"performances/g_d8N32_pure.txt\"\n",
      "  if(np.loadtxt(f'{ofdir}d{d}N{N}_pure.txt').shape[0]==0):\n",
      "/tmp/ipykernel_2773/1594193375.py:7: UserWarning: loadtxt: Empty input file: \"performances/g_d16N8_pure.txt\"\n",
      "  if(np.loadtxt(f'{ofdir}d{d}N{N}_pure.txt').shape[0]==0):\n",
      "/tmp/ipykernel_2773/1594193375.py:7: UserWarning: loadtxt: Empty input file: \"performances/g_d16N16_pure.txt\"\n",
      "  if(np.loadtxt(f'{ofdir}d{d}N{N}_pure.txt').shape[0]==0):\n",
      "/tmp/ipykernel_2773/1594193375.py:7: UserWarning: loadtxt: Empty input file: \"performances/g_d16N32_pure.txt\"\n",
      "  if(np.loadtxt(f'{ofdir}d{d}N{N}_pure.txt').shape[0]==0):\n"
     ]
    }
   ],
   "source": [
    "time_sep = np.empty((len(ds), len(Ns)))\n",
    "time_gen = np.empty((len(ds), len(Ns)))\n",
    "\n",
    "for i, d in enumerate(ds):\n",
    "    for j, N in enumerate(Ns):\n",
    "        time_sep[i, j], time_gen[i, j] = np.mean(np.loadtxt(f'{ofdir}d{d}N{N}_perf.txt'), 1)\n",
    "        if(np.loadtxt(f'{ofdir}d{d}N{N}_pure.txt').shape[0]==0):\n",
    "            time_gen[i, j] = np.nan\n",
    "        if(np.loadtxt(f'{ofdir}d{d}N{N}_sep.txt').shape[0]==0):\n",
    "            time_sep[i, j] = np.nan\n",
    "        "
   ]
  },
  {
   "cell_type": "code",
   "execution_count": 43,
   "metadata": {},
   "outputs": [
    {
     "data": {
      "image/png": "[encoded data removed]",
      "text/plain": [
       "<Figure size 600x1200 with 4 Axes>"
      ]
     },
     "metadata": {},
     "output_type": "display_data"
    }
   ],
   "source": [
    "fig, (ax_sep, ax_pure) = plt.subplots(2, 1, figsize=(6, 12), sharex=True, sharey=True)\n",
    "\n",
    "#hm_limits = [time_sep[time_sep>0].min(), time_gen[~np.isnan(time_gen)].max()]\n",
    "\n",
    "sns.heatmap(time_sep, ax=ax_sep)\n",
    "ax_sep.set_ylabel('# Subsystems')\n",
    "ax_sep.set_title('Execution time for\\nseparable state init')\n",
    "\n",
    "sns.heatmap(time_gen, ax=ax_pure)\n",
    "ax_pure.set_xticklabels(ds)\n",
    "ax_pure.set_yticklabels(Ns)\n",
    "ax_pure.set_xlabel('Local dimension')\n",
    "ax_pure.set_ylabel('# Subsystems')\n",
    "ax_pure.set_title('Execution time for\\ngeneral pure state init')\n",
    "\n",
    "fig.savefig('perfs.svg')"
   ]
  },
  {
   "cell_type": "code",
   "execution_count": null,
   "metadata": {},
   "outputs": [],
   "source": []
  }
 ],
 "metadata": {
  "kernelspec": {
   "display_name": "torch",
   "language": "python",
   "name": "python3"
  },
  "language_info": {
   "codemirror_mode": {
    "name": "ipython",
    "version": 3
   },
   "file_extension": ".py",
   "mimetype": "text/x-python",
   "name": "python",
   "nbconvert_exporter": "python",
   "pygments_lexer": "ipython3",
   "version": "3.10.6 (main, Oct 24 2022, 16:07:47) [GCC 11.2.0]"
  },
  "orig_nbformat": 4,
  "vscode": {
   "interpreter": {
    "hash": "331a419315a2fdb77d716bff9d27d64bbb9fafc97272ccf1eb9acf778ff8f493"
   }
  }
 },
 "nbformat": 4,
 "nbformat_minor": 2
}
